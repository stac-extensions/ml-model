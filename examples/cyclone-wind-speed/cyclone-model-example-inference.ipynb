{
 "cells": [
  {
   "cell_type": "code",
   "execution_count": 1,
   "id": "819f4a5f",
   "metadata": {},
   "outputs": [],
   "source": [
    "import sys\n",
    "sys.path.append(\"../../\")\n",
    "from torchgeo.datasets import CycloneDataModule\n",
    "from torchgeo.trainers import RegressionTask\n",
    "import torch\n",
    "import numpy as np\n",
    "import matplotlib.pyplot as plt\n",
    "from tqdm import tqdm\n",
    "from sklearn.metrics import mean_squared_error, r2_score"
   ]
  },
  {
   "cell_type": "code",
   "execution_count": 2,
   "id": "c2e916f7",
   "metadata": {},
   "outputs": [],
   "source": [
    "device = torch.device(\"cuda:1\")"
   ]
  },
  {
   "cell_type": "code",
   "execution_count": 3,
   "id": "e2fae815",
   "metadata": {},
   "outputs": [],
   "source": [
    "datamodule = CycloneDataModule(\n",
    "    root_dir=\"/home/caleb/mount/data/cyclone/\",\n",
    "    seed=1337,\n",
    "    batch_size=64,\n",
    "    num_workers=6,\n",
    ")\n",
    "datamodule.setup()\n",
    "datamodule.prepare_data()"
   ]
  },
  {
   "cell_type": "code",
   "execution_count": 4,
   "id": "91dc4ff6",
   "metadata": {
    "scrolled": true
   },
   "outputs": [],
   "source": [
    "model = RegressionTask(\n",
    "    model=\"resnet18\",\n",
    "    pretrained=False,\n",
    ")\n",
    "model = model.load_from_checkpoint(\"../../output/cyclone_experiments/epoch=14-step=13634.ckpt\")\n",
    "model.freeze()\n",
    "model = model.eval()\n",
    "model = model.to(device)"
   ]
  },
  {
   "cell_type": "code",
   "execution_count": 5,
   "id": "f1752f31",
   "metadata": {},
   "outputs": [
    {
     "name": "stderr",
     "output_type": "stream",
     "text": [
      "100%|██████████| 694/694 [01:07<00:00, 10.22it/s]\n"
     ]
    }
   ],
   "source": [
    "y_pred = []\n",
    "y_true = []\n",
    "for batch in tqdm(datamodule.test_dataloader()):\n",
    "    images = batch[\"image\"].to(device)\n",
    "    labels = batch[\"label\"].numpy()\n",
    "    with torch.no_grad():\n",
    "        output = model(images).cpu().numpy()\n",
    "    y_pred.append(output)\n",
    "    y_true.append(labels)"
   ]
  },
  {
   "cell_type": "code",
   "execution_count": 6,
   "id": "5fd44177",
   "metadata": {},
   "outputs": [
    {
     "data": {
      "text/plain": [
       "(torch.Size([25, 3, 366, 366]),\n",
       " torch.float32,\n",
       " tensor(0.0078, device='cuda:1'),\n",
       " tensor(0.9451, device='cuda:1'))"
      ]
     },
     "execution_count": 6,
     "metadata": {},
     "output_type": "execute_result"
    }
   ],
   "source": [
    "images.shape, images.dtype, images.min(), images.max()"
   ]
  },
  {
   "cell_type": "code",
   "execution_count": 7,
   "id": "f319a0a0",
   "metadata": {},
   "outputs": [],
   "source": [
    "y_pred = np.concatenate(y_pred, axis=0).squeeze()\n",
    "y_true = np.concatenate(y_true, axis=0).squeeze()"
   ]
  },
  {
   "cell_type": "code",
   "execution_count": 8,
   "id": "8dab2a5a",
   "metadata": {},
   "outputs": [
    {
     "data": {
      "image/png": "[encoded data removed]",
      "text/plain": [
       "<Figure size 432x288 with 1 Axes>"
      ]
     },
     "metadata": {
      "needs_background": "light"
     },
     "output_type": "display_data"
    }
   ],
   "source": [
    "plt.figure()\n",
    "plt.scatter(y_pred, y_true)\n",
    "plt.xlabel(\"Predicted\")\n",
    "plt.ylabel(\"Actual\")\n",
    "plt.show()\n",
    "plt.close()"
   ]
  },
  {
   "cell_type": "code",
   "execution_count": 9,
   "id": "05e16c5e",
   "metadata": {},
   "outputs": [
    {
     "data": {
      "text/plain": [
       "11.02597"
      ]
     },
     "execution_count": 9,
     "metadata": {},
     "output_type": "execute_result"
    }
   ],
   "source": [
    "np.sqrt(mean_squared_error(y_true, y_pred))"
   ]
  },
  {
   "cell_type": "code",
   "execution_count": 10,
   "id": "c7117240",
   "metadata": {},
   "outputs": [
    {
     "data": {
      "text/plain": [
       "0.7919085969169163"
      ]
     },
     "execution_count": 10,
     "metadata": {},
     "output_type": "execute_result"
    }
   ],
   "source": [
    "r2_score(y_true, y_pred)"
   ]
  },
  {
   "cell_type": "code",
   "execution_count": null,
   "id": "4815046d",
   "metadata": {},
   "outputs": [],
   "source": []
  }
 ],
 "metadata": {
  "kernelspec": {
   "display_name": "Python 3 (ipykernel)",
   "language": "python",
   "name": "python3"
  },
  "language_info": {
   "codemirror_mode": {
    "name": "ipython",
    "version": 3
   },
   "file_extension": ".py",
   "mimetype": "text/x-python",
   "name": "python",
   "nbconvert_exporter": "python",
   "pygments_lexer": "ipython3",
   "version": "3.8.9"
  }
 },
 "nbformat": 4,
 "nbformat_minor": 5
}
